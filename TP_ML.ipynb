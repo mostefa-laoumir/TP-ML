{
  "nbformat": 4,
  "nbformat_minor": 0,
  "metadata": {
    "colab": {
      "name": "TP-ML.ipynb",
      "provenance": [],
      "mount_file_id": "11dfj7T_aJ1yYZzC2YFqBgvTV0_-d30TG",
      "authorship_tag": "ABX9TyMxM0vkigTSHSEUKkPV88lN",
      "include_colab_link": true
    },
    "kernelspec": {
      "name": "python3",
      "display_name": "Python 3"
    }
  },
  "cells": [
    {
      "cell_type": "markdown",
      "metadata": {
        "id": "view-in-github",
        "colab_type": "text"
      },
      "source": [
        "<a href=\"https://colab.research.google.com/github/mostefa-laoumir/TP-ML/blob/main/TP_ML.ipynb\" target=\"_parent\"><img src=\"https://colab.research.google.com/assets/colab-badge.svg\" alt=\"Open In Colab\"/></a>"
      ]
    },
    {
      "cell_type": "markdown",
      "metadata": {
        "id": "SiDIAG77PAQL"
      },
      "source": [
        "### DATA Preprocessing"
      ]
    },
    {
      "cell_type": "code",
      "metadata": {
        "id": "RrK8pN3nN3QM"
      },
      "source": [
        "import numpy as np\r\n",
        "import pandas as pd\r\n",
        "import matplotlib.pyplot as plt\r\n",
        "data = pd.read_csv(\"/content/drive/MyDrive/training.csv\")\r\n",
        "target = data[\"FraudResult\"]\r\n",
        "y =data.iloc[:,-1]\r\n",
        "\r\n",
        "\r\n",
        "data = data.drop([\"TransactionId\", \"BatchId\" ,\"SubscriptionId\" ,\"AccountId\",\"CustomerId\",\"ProductCategory\",\"CurrencyCode\",\"ProviderId\",\"ProductId\",\"ChannelId\",\"TransactionStartTime\"], axis = 1)\r\n"
      ],
      "execution_count": null,
      "outputs": []
    },
    {
      "cell_type": "code",
      "metadata": {
        "id": "KenTNjqHOP-n"
      },
      "source": [
        "Xafterdrop = data.iloc[:,:].values\r\n",
        "Xnew = data.iloc[:,:].values\r\n",
        "y = target.iloc[:].values\r\n",
        "\r\n",
        "from sklearn.preprocessing import LabelEncoder\r\n",
        "label = LabelEncoder()\r\n",
        "Xnew[:,0] = label.fit_transform(Xnew[:,0])\r\n",
        "Xnew[:,1] = label.fit_transform(Xnew[:,1])\r\n",
        "Xnew[:,-1] = label.fit_transform(Xnew[:,-1])\r\n",
        "y = label.fit_transform(y)\r\n",
        "\r\n"
      ],
      "execution_count": null,
      "outputs": []
    },
    {
      "cell_type": "code",
      "metadata": {
        "id": "-_9xw9HxOS30"
      },
      "source": [
        "\r\n",
        "from sklearn.preprocessing import StandardScaler\r\n",
        "scaler = StandardScaler()\r\n",
        "Xnew = scaler.fit_transform(Xnew)\r\n",
        "\r\n",
        "\r\n",
        "from sklearn.decomposition import PCA\r\n",
        "pca = PCA(2)\r\n",
        "red_X = pca.fit_transform(Xnew)\r\n",
        "ratio = pca.explained_variance_ratio_\r\n",
        "y = label.fit_transform(y)\r\n",
        "\r\n",
        "from sklearn.model_selection import train_test_split\r\n",
        "x_train , x_test , y_train , y_test = train_test_split(red_X,y , test_size = 0.2 , random_state = 0)\r\n",
        "\r\n",
        "\r\n",
        "from sklearn.metrics import r2_score\r\n",
        "from sklearn.metrics import confusion_matrix\r\n",
        "\r\n"
      ],
      "execution_count": null,
      "outputs": []
    },
    {
      "cell_type": "markdown",
      "metadata": {
        "id": "IRffzmq_OhrI"
      },
      "source": [
        "### Models\r\n",
        "## GaussianNB Model"
      ]
    },
    {
      "cell_type": "code",
      "metadata": {
        "colab": {
          "base_uri": "https://localhost:8080/"
        },
        "id": "U1RvHrKEOaAG",
        "outputId": "9b57c04a-07ac-4164-c8ae-fb3e2f590273"
      },
      "source": [
        "from sklearn.naive_bayes import GaussianNB\r\n",
        "print('Start.............')\r\n",
        "\r\n",
        "classifier = GaussianNB()\r\n",
        "classifier.fit(x_train,y_train)\r\n",
        "y_pred = classifier.predict(x_test)\r\n",
        "print('The score For Naive Bayes: ' , r2_score(y_test , y_pred))\r\n",
        "print('The accuracy for NB is ', (y_pred == y_test).mean())\r\n",
        "cm = confusion_matrix(y_test,y_pred)\r\n",
        "print('Confusion Matrix is :', cm)\r\n",
        "print('######################################')\r\n",
        "      \r\n",
        "\r\n"
      ],
      "execution_count": null,
      "outputs": [
        {
          "output_type": "stream",
          "text": [
            "Start.............\n",
            "The score For Naive Bayes:  -0.08770402285953627\n",
            "The accuracy for NB is  0.9980139026812314\n",
            "Confusion Matrix is : [[19060    38]\n",
            " [    0    35]]\n",
            "######################################\n"
          ],
          "name": "stdout"
        }
      ]
    },
    {
      "cell_type": "markdown",
      "metadata": {
        "id": "hQPMQFZNOnhN"
      },
      "source": [
        "## Logistic Regression Model"
      ]
    },
    {
      "cell_type": "code",
      "metadata": {
        "colab": {
          "base_uri": "https://localhost:8080/"
        },
        "id": "KeSt7v2hOoMt",
        "outputId": "c62b5144-c485-40e1-e1c8-286bfc07acb7"
      },
      "source": [
        "print('Start.............')\r\n",
        "\r\n",
        "from sklearn.linear_model import LogisticRegression\r\n",
        "classifier = LogisticRegression()\r\n",
        "classifier.fit(x_train, y_train)\r\n",
        "y_pred = classifier.predict(x_test)\r\n",
        "\r\n",
        "print('The score For Linear Regression: ' , r2_score(y_test , y_pred))\r\n",
        "print('The accuracy for Linear Regression is ', (y_pred == y_test).mean())\r\n",
        "cm = confusion_matrix(y_test,y_pred)\r\n",
        "print('Confusion Matrix is :', cm)\r\n",
        "print('######################################')\r\n",
        "\r\n",
        "print('End1.............')"
      ],
      "execution_count": null,
      "outputs": [
        {
          "output_type": "stream",
          "text": [
            "Start.............\n",
            "The score For Linear Regression:  1.0\n",
            "The accuracy for Linear Regression is  1.0\n",
            "Confusion Matrix is : [[19098     0]\n",
            " [    0    35]]\n",
            "######################################\n",
            "End1.............\n"
          ],
          "name": "stdout"
        }
      ]
    },
    {
      "cell_type": "markdown",
      "metadata": {
        "id": "JgDCpANOPqlX"
      },
      "source": [
        "##Support Vector Machine (SVM)"
      ]
    },
    {
      "cell_type": "code",
      "metadata": {
        "colab": {
          "base_uri": "https://localhost:8080/"
        },
        "id": "nRw-3kO2Pqs5",
        "outputId": "a38417cc-73af-4ea9-9787-eef0b4f382a3"
      },
      "source": [
        "print('Start.............')\r\n",
        "\r\n",
        "from sklearn import svm\r\n",
        "classifier = svm.SVC()\r\n",
        "classifier.fit(x_train, y_train)\r\n",
        "y_pred = classifier.predict(x_test)\r\n",
        "\r\n",
        "print('The score For SVM: ' , r2_score(y_test , y_pred))\r\n",
        "print('The accuracy for SVM is ', (y_pred == y_test).mean())\r\n",
        "cm = confusion_matrix(y_test,y_pred)\r\n",
        "print('Confusion Matrix is :', cm)\r\n",
        "print('######################################')\r\n",
        "\r\n",
        "print('End1.............')"
      ],
      "execution_count": 30,
      "outputs": [
        {
          "output_type": "stream",
          "text": [
            "Start.............\n",
            "The score For SVM:  0.9427524198494981\n",
            "The accuracy for SVM is  0.99989546856217\n",
            "Confusion Matrix is : [[19096     2]\n",
            " [    0    35]]\n",
            "######################################\n",
            "End1.............\n"
          ],
          "name": "stdout"
        }
      ]
    },
    {
      "cell_type": "markdown",
      "metadata": {
        "id": "9caO8o9QTaY1"
      },
      "source": [
        "###Boosting"
      ]
    },
    {
      "cell_type": "code",
      "metadata": {
        "colab": {
          "base_uri": "https://localhost:8080/"
        },
        "id": "uKlO2QzeTZwf",
        "outputId": "6af9b435-e037-4151-a04f-887bad39903e"
      },
      "source": [
        "from sklearn.ensemble import AdaBoostClassifier\r\n",
        "print('Start.............')\r\n",
        "\r\n",
        "classifier = AdaBoostClassifier(n_estimators=100,learning_rate=1,random_state=123)\r\n",
        "classifier.fitted = classifier.fit(x_train, y_train)\r\n",
        "\r\n",
        "y_pred = classifier.predict(x_test)\r\n",
        "\r\n",
        "print('The score For Boosting: ' , r2_score(y_test , y_pred))\r\n",
        "print('The accuracy for Boosting is ', (y_pred == y_test).mean())\r\n",
        "cm = confusion_matrix(y_test,y_pred)\r\n",
        "print('Confusion Matrix is :', cm)\r\n",
        "print('######################################')\r\n",
        "\r\n",
        "print('End1.............')"
      ],
      "execution_count": 29,
      "outputs": [
        {
          "output_type": "stream",
          "text": [
            "Start.............\n",
            "The score For Linear Regression:  1.0\n",
            "The accuracy for Linear Regression is  1.0\n",
            "Confusion Matrix is : [[19098     0]\n",
            " [    0    35]]\n",
            "######################################\n",
            "End1.............\n"
          ],
          "name": "stdout"
        }
      ]
    },
    {
      "cell_type": "markdown",
      "metadata": {
        "id": "ksj-CE3BXRPx"
      },
      "source": [
        "# KNN (K-nearest neighbor)"
      ]
    },
    {
      "cell_type": "code",
      "metadata": {
        "colab": {
          "base_uri": "https://localhost:8080/"
        },
        "id": "iEpXHJtlXQef",
        "outputId": "cdd3f38d-ff92-479a-baee-9d66d536afa3"
      },
      "source": [
        "from sklearn.neighbors import KNeighborsClassifier\r\n",
        "\r\n",
        "\r\n",
        "print('Start.............')\r\n",
        "\r\n",
        "classifier = KNeighborsClassifier(n_neighbors=3)\r\n",
        "classifier.fit(x_train, y_train)\r\n",
        "y_pred = classifier.predict(x_test)\r\n",
        "print('The score For KNN: with number of neighbors is 3 : ' , r2_score(y_test , y_pred))\r\n",
        "print('The accuracy for KNN is : with number of neighbors is 3 :  ', (y_pred == y_test).mean())\r\n",
        "cm = confusion_matrix(y_test,y_pred)\r\n",
        "print('Confusion Matrix is :', cm)\r\n",
        "print('######################################')\r\n",
        "print('End1.............')"
      ],
      "execution_count": 33,
      "outputs": [
        {
          "output_type": "stream",
          "text": [
            "Start.............\n",
            "The score For KNN: with number of neighbors is 3 :  1.0\n",
            "The accuracy for KNN is : with number of neighbors is 3 :   1.0\n",
            "Confusion Matrix is : [[19098     0]\n",
            " [    0    35]]\n",
            "######################################\n",
            "End1.............\n"
          ],
          "name": "stdout"
        }
      ]
    },
    {
      "cell_type": "code",
      "metadata": {
        "id": "p2KIPENWYBgq"
      },
      "source": [
        ""
      ],
      "execution_count": null,
      "outputs": []
    }
  ]
}